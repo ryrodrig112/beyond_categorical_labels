{
 "cells": [
  {
   "cell_type": "markdown",
   "id": "8c65b4d0-d609-411f-949e-09da3b67f8b2",
   "metadata": {},
   "source": [
    "# Label Entropy"
   ]
  },
  {
   "cell_type": "markdown",
   "id": "a20a3c4d-1c0c-4f46-bba8-52d8b5eeda76",
   "metadata": {},
   "source": [
    "$$\n",
    "H(X) = -\\sum_{i=1}^{n} p_i \\log_2(p_i) \n",
    "$$\n",
    "$$\n",
    "H(X,Y) = -\\sum_{x \\in X}\\sum_{y \\in Y} P(x,y) \\log_2P(x,y) = I(X;Y)\n",
    "$$\n",
    "$$\n",
    "I(C;X) = -\\sum_{c \\in C}\\sum_{x \\in X}P(c, x)log_2\\frac{P(c,x)}{P(c)p(x)}\n",
    "$$"
   ]
  },
  {
   "cell_type": "code",
   "execution_count": 232,
   "id": "21e2dd2f-5541-4be4-9fe2-e83936603c68",
   "metadata": {},
   "outputs": [],
   "source": [
    "# dimensions of labels are features are random variables X: {X_1, X_2, X_3}\n",
    "# category of feature is "
   ]
  },
  {
   "cell_type": "markdown",
   "id": "9320c4e8-4a38-49be-b035-54b920092e8a",
   "metadata": {},
   "source": [
    "### Imports and loads"
   ]
  },
  {
   "cell_type": "code",
   "execution_count": 233,
   "id": "86708e8d-c37e-416d-8f3a-e9c92ef6adb8",
   "metadata": {},
   "outputs": [],
   "source": [
    "import matplotlib.pyplot as plt\n",
    "import numpy as np\n",
    "import math"
   ]
  },
  {
   "cell_type": "code",
   "execution_count": 234,
   "id": "5dc3645e-fee2-401a-9ea4-5213c00f2570",
   "metadata": {},
   "outputs": [],
   "source": [
    "high_dim_label_path = \"../data/labels/high_dim/cifar10_speech.npy\""
   ]
  },
  {
   "cell_type": "markdown",
   "id": "d111841a-9ba7-4efd-963e-5b271e8582b3",
   "metadata": {},
   "source": [
    "## Entropy of Classes"
   ]
  },
  {
   "cell_type": "code",
   "execution_count": 235,
   "id": "01094732-fd46-4e33-bbe8-dcba04622ef6",
   "metadata": {},
   "outputs": [],
   "source": [
    "n_classes = 10"
   ]
  },
  {
   "cell_type": "code",
   "execution_count": 236,
   "id": "e21b4886-6d11-4686-83bf-b87d58bc40a9",
   "metadata": {},
   "outputs": [
    {
     "data": {
      "text/plain": [
       "3.321928094887362"
      ]
     },
     "execution_count": 236,
     "metadata": {},
     "output_type": "execute_result"
    }
   ],
   "source": [
    "p = 1/n_classes\n",
    "h_y = -sum([(p)*np.log2(p) for i in range(n_classes)])\n",
    "h_y"
   ]
  },
  {
   "cell_type": "markdown",
   "id": "215f6d53-b953-43b0-8314-5d7821cd8fef",
   "metadata": {},
   "source": [
    "## Entropy of Labels"
   ]
  },
  {
   "cell_type": "markdown",
   "id": "97f52f19-087c-47b4-b4c7-aeab8be097ee",
   "metadata": {},
   "source": [
    "### One-Hot"
   ]
  },
  {
   "cell_type": "code",
   "execution_count": 237,
   "id": "5dcf7f02-3f35-4575-a20d-e8abe1cb9eaa",
   "metadata": {},
   "outputs": [],
   "source": [
    "classes = np.arange(0,n_classes)\n",
    "labels = np.zeros([n_classes,n_classes])\n",
    "labels[classes, classes] = 1"
   ]
  },
  {
   "cell_type": "code",
   "execution_count": 238,
   "id": "60359f03-aa33-4b7a-b17a-d45833521f8a",
   "metadata": {},
   "outputs": [],
   "source": [
    "# All Labels"
   ]
  },
  {
   "cell_type": "code",
   "execution_count": 239,
   "id": "69268232-1151-4ecf-bf1c-5b9b9c777635",
   "metadata": {},
   "outputs": [],
   "source": [
    "# assumes equal class distribution\n",
    "prob_one = np.sum(labels, axis=0)/n_classes\n",
    "prob_zero = np.sum(np.ones([n_classes, n_classes]) - labels, axis=0)/n_classes"
   ]
  },
  {
   "cell_type": "code",
   "execution_count": 240,
   "id": "57b36f4c-ccf9-4104-91ce-dadcbd8065b9",
   "metadata": {},
   "outputs": [],
   "source": [
    "probs = np.stack([prob_one, prob_zero])\n",
    "h_x = -np.sum(probs * np.log2(probs), axis=0)"
   ]
  },
  {
   "cell_type": "code",
   "execution_count": 241,
   "id": "32b6e4d9-781f-4544-b630-ada6d3bee2d2",
   "metadata": {},
   "outputs": [
    {
     "name": "stdout",
     "output_type": "stream",
     "text": [
      "[0.46899559 0.46899559 0.46899559 0.46899559 0.46899559 0.46899559\n",
      " 0.46899559 0.46899559 0.46899559 0.46899559]\n"
     ]
    }
   ],
   "source": [
    "print(h_x)"
   ]
  },
  {
   "cell_type": "markdown",
   "id": "b2088305-23ff-43ad-b600-c3b1c04058ee",
   "metadata": {},
   "source": [
    "### High Dimensional "
   ]
  },
  {
   "cell_type": "code",
   "execution_count": 242,
   "id": "9f437872-edf1-4785-bf69-ab63db55a5af",
   "metadata": {},
   "outputs": [],
   "source": [
    "high_dim_labels = np.load(high_dim_label_path).reshape(10, -1) # original labels are 64x64 w/ 10 classes, reshape to flat vectors "
   ]
  },
  {
   "cell_type": "code",
   "execution_count": 243,
   "id": "2160c631-ad59-4d1d-bf83-2779e74c0765",
   "metadata": {},
   "outputs": [],
   "source": [
    "min_val = np.min(high_dim_labels)\n",
    "max_val = np.max(high_dim_labels)\n",
    "num_bins = math.ceil(2 * 10 ** 1/3)\n",
    "bins = np.linspace(min_val, max_val, num_bins)"
   ]
  },
  {
   "cell_type": "code",
   "execution_count": 244,
   "id": "57c3b0b0-0f8c-41e7-979c-3ab114c3181e",
   "metadata": {},
   "outputs": [
    {
     "data": {
      "text/plain": [
       "array([-8.00000000e+01, -6.66667416e+01, -5.33334832e+01, -4.00002247e+01,\n",
       "       -2.66669663e+01, -1.33337079e+01, -4.49478626e-04])"
      ]
     },
     "execution_count": 244,
     "metadata": {},
     "output_type": "execute_result"
    }
   ],
   "source": [
    "bins"
   ]
  },
  {
   "cell_type": "code",
   "execution_count": 245,
   "id": "cd7d9403-9748-4c57-a195-86be1f4e1f3c",
   "metadata": {},
   "outputs": [
    {
     "data": {
      "text/plain": [
       "array([[-63.055466, -54.124146, -43.19886 , ..., -80.      , -80.      ,\n",
       "        -80.      ],\n",
       "       [-54.61876 , -51.501842, -44.887394, ..., -80.      , -80.      ,\n",
       "        -80.      ],\n",
       "       [-57.567795, -52.088005, -42.65007 , ..., -80.      , -80.      ,\n",
       "        -80.      ],\n",
       "       ...,\n",
       "       [-75.41502 , -71.7176  , -67.47974 , ..., -80.      , -80.      ,\n",
       "        -80.      ],\n",
       "       [-79.84568 , -79.30102 , -77.15511 , ..., -80.      , -80.      ,\n",
       "        -80.      ],\n",
       "       [-72.990265, -70.64993 , -67.11142 , ..., -80.      , -80.      ,\n",
       "        -80.      ]], dtype=float32)"
      ]
     },
     "execution_count": 245,
     "metadata": {},
     "output_type": "execute_result"
    }
   ],
   "source": [
    "high_dim_labels"
   ]
  },
  {
   "cell_type": "code",
   "execution_count": 246,
   "id": "c3920109-b60a-4f90-bf53-0f769801f400",
   "metadata": {},
   "outputs": [
    {
     "name": "stdout",
     "output_type": "stream",
     "text": [
      "0\n",
      "6\n"
     ]
    }
   ],
   "source": [
    "binned_labels = np.digitize(high_dim_labels, bins, right=True)\n",
    "print(np.min(binned_labels))\n",
    "print(np.max(binned_labels))"
   ]
  },
  {
   "cell_type": "code",
   "execution_count": null,
   "id": "b7661ebc-b0c9-45ca-b8d0-0a06a0e98556",
   "metadata": {},
   "outputs": [],
   "source": []
  },
  {
   "cell_type": "code",
   "execution_count": 263,
   "id": "ba223ae1-84fa-4d56-9b8b-ef14d2672060",
   "metadata": {},
   "outputs": [],
   "source": [
    "def create_bins(arr, n_bins):\n",
    "    eps = 0.01\n",
    "    bins = np.linspace(np.min(arr), np.max(arr), n_bins+1)\n",
    "    bins[-1] += eps # ensures max value is included in final bin, np digitize uses half open bins\n",
    "    return bins\n",
    "\n",
    "def calc_probs(arr, n_classes):\n",
    "    probs = np.zeros(n_classes)\n",
    "    for _, val in enumerate(arr):\n",
    "        probs[val] +=1 \n",
    "    probs = probs / len(arr)\n",
    "    return probs\n",
    "\n",
    "def bin_high_dim_labels(labels, n_bins):\n",
    "    binned_values = np.zeros([labels.shape[0], labels.shape[1]])\n",
    "    probs = np.zeros([n_bins, labels.shape[1]])\n",
    "\n",
    "    for i, col in enumerate(high_dim_labels.T):\n",
    "        col_bins = create_bins(col, n_bins)\n",
    "        binned_column = np.digitize(col, col_bins) - 1\n",
    "        binned_values[:,i] = binned_column.T\n",
    "        probs[:, i] =  calc_probs(binned_column, n_bins).T\n",
    "        \n",
    "    return binned_values, probs"
   ]
  },
  {
   "cell_type": "code",
   "execution_count": 264,
   "id": "8e01185d-1e1c-4ed2-8e95-4c86bc5ff094",
   "metadata": {},
   "outputs": [
    {
     "data": {
      "text/plain": [
       "array([[0.4, 0.2, 0.2, ..., 0. , 0. , 0. ],\n",
       "       [0.2, 0.3, 0.4, ..., 0. , 0. , 0. ],\n",
       "       [0.1, 0.2, 0.1, ..., 0. , 0. , 0. ],\n",
       "       [0.1, 0. , 0. , ..., 0. , 0. , 0. ],\n",
       "       [0.2, 0.3, 0.3, ..., 1. , 1. , 1. ]])"
      ]
     },
     "execution_count": 264,
     "metadata": {},
     "output_type": "execute_result"
    }
   ],
   "source": [
    "binned_labels, probs = bin_high_dim_labels(high_dim_labels, 5)\n",
    "probs"
   ]
  },
  {
   "cell_type": "code",
   "execution_count": 265,
   "id": "6136bfff-2504-4f15-aafd-21243250c326",
   "metadata": {},
   "outputs": [],
   "source": [
    "h_high_dim = - np.sum(probs * \n",
    "                    np.log2(probs, out=np.zeros_like(probs), where=(probs!=0))\n",
    "                   ,axis=0)"
   ]
  },
  {
   "cell_type": "code",
   "execution_count": 266,
   "id": "ffb2bd93-fb06-47d8-af0e-fc48d84b2651",
   "metadata": {},
   "outputs": [
    {
     "data": {
      "text/plain": [
       "(array([ 162.,    0.,   43.,   51.,   39.,  130.,  208.,  915.,  896.,\n",
       "        1652.]),\n",
       " array([0.        , 0.23219281, 0.46438562, 0.69657843, 0.92877124,\n",
       "        1.16096405, 1.39315686, 1.62534967, 1.85754248, 2.08973529,\n",
       "        2.32192809]),\n",
       " <BarContainer object of 10 artists>)"
      ]
     },
     "execution_count": 266,
     "metadata": {},
     "output_type": "execute_result"
    },
    {
     "data": {
      "image/png": "[encoded data removed]",
      "text/plain": [
       "<Figure size 640x480 with 1 Axes>"
      ]
     },
     "metadata": {},
     "output_type": "display_data"
    }
   ],
   "source": [
    "plt.hist(h_high_dim)"
   ]
  },
  {
   "cell_type": "code",
   "execution_count": 203,
   "id": "2f108ec2-3234-487b-95bf-bfca4433cf74",
   "metadata": {},
   "outputs": [
    {
     "data": {
      "text/plain": [
       "(5, 4096)"
      ]
     },
     "execution_count": 203,
     "metadata": {},
     "output_type": "execute_result"
    }
   ],
   "source": [
    "probs.shape"
   ]
  },
  {
   "cell_type": "markdown",
   "id": "0c274b37-c650-4dab-aaf3-78a0e5dc0c74",
   "metadata": {},
   "source": [
    "## Relevance: I(C;X) and I(C;X)"
   ]
  },
  {
   "cell_type": "code",
   "execution_count": null,
   "id": "be66f5c8-85f5-4a64-ba56-821135f946b4",
   "metadata": {},
   "outputs": [],
   "source": [
    "#want to look at: how muchh info is gained per square"
   ]
  },
  {
   "cell_type": "markdown",
   "id": "d3ff79ff-448e-4d98-8d85-4f896e7b3306",
   "metadata": {},
   "source": [
    "### One Hot Encoding"
   ]
  },
  {
   "cell_type": "code",
   "execution_count": 21,
   "id": "bffcf638-ea1f-453d-bca0-0d3fc1bb0dfe",
   "metadata": {},
   "outputs": [
    {
     "data": {
      "text/plain": [
       "4.308869380063768"
      ]
     },
     "execution_count": 21,
     "metadata": {},
     "output_type": "execute_result"
    }
   ],
   "source": []
  },
  {
   "cell_type": "code",
   "execution_count": null,
   "id": "a5c40c6c-2bd6-441f-a872-54e473ef2c4d",
   "metadata": {},
   "outputs": [],
   "source": []
  }
 ],
 "metadata": {
  "kernelspec": {
   "display_name": "Python 3 (ipykernel)",
   "language": "python",
   "name": "python3"
  },
  "language_info": {
   "codemirror_mode": {
    "name": "ipython",
    "version": 3
   },
   "file_extension": ".py",
   "mimetype": "text/x-python",
   "name": "python",
   "nbconvert_exporter": "python",
   "pygments_lexer": "ipython3",
   "version": "3.8.9"
  }
 },
 "nbformat": 4,
 "nbformat_minor": 5
}
