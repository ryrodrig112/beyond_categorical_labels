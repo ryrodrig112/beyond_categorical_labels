{
 "cells": [
  {
   "cell_type": "markdown",
   "id": "ea94208c-b082-4fe2-a03f-d5f3051cc205",
   "metadata": {},
   "source": [
    "# audio processing"
   ]
  },
  {
   "cell_type": "code",
   "execution_count": 1,
   "id": "1c8fec1a-dfd1-4c3f-8444-30aac8df56da",
   "metadata": {},
   "outputs": [],
   "source": [
    "from skimage.transform import resize\n",
    "import numpy as np\n",
    "import librosa\n",
    "import librosa.display\n",
    "import os"
   ]
  },
  {
   "cell_type": "code",
   "execution_count": 2,
   "id": "f6efa9c9-d068-4e3f-9975-ebec9ab7880b",
   "metadata": {},
   "outputs": [],
   "source": [
    "directory = \"../data/audio\"\n",
    "file_nms = ['airplane', 'automobile', 'bird', 'cat', 'deer', 'dog', 'frog', 'horse', 'ship', 'truck']\n",
    "suffix = \".wav\""
   ]
  },
  {
   "cell_type": "code",
   "execution_count": 3,
   "id": "5e46b144-5ca6-4ef4-83be-4100da5f8595",
   "metadata": {},
   "outputs": [],
   "source": [
    "mels = np.ndarray(shape=(10, 64, 64), dtype='float32')\n",
    "for i in range(10):\n",
    "    y, sr = librosa.load(os.path.join(directory, file_nms[i]+suffix), sr=22050)\n",
    "    y, _ = librosa.effects.trim(y)\n",
    "    mel = librosa.feature.melspectrogram(y=y, sr=sr, hop_length=256, n_mels=64, fmax=8000)\n",
    "    mel = librosa.power_to_db(mel, ref=np.max)\n",
    "    mel = resize(mel, (64, 64))\n",
    "    mels[i] = mel\n",
    "np.save('../data/labels/cifar10_speech', mels)"
   ]
  },
  {
   "cell_type": "code",
   "execution_count": null,
   "id": "f0f0cdc2-c0f6-4b45-aeda-0b2a4480c7ca",
   "metadata": {},
   "outputs": [],
   "source": []
  }
 ],
 "metadata": {
  "kernelspec": {
   "display_name": "Python 3 (ipykernel)",
   "language": "python",
   "name": "python3"
  },
  "language_info": {
   "codemirror_mode": {
    "name": "ipython",
    "version": 3
   },
   "file_extension": ".py",
   "mimetype": "text/x-python",
   "name": "python",
   "nbconvert_exporter": "python",
   "pygments_lexer": "ipython3",
   "version": "3.8.9"
  }
 },
 "nbformat": 4,
 "nbformat_minor": 5
}
