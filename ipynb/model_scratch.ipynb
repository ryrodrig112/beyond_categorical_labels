{
 "cells": [
  {
   "cell_type": "markdown",
   "id": "33ce7616-719f-4ba6-a547-0d7f5d7e76c4",
   "metadata": {},
   "source": [
    "# Model "
   ]
  },
  {
   "cell_type": "code",
   "execution_count": 1,
   "id": "e47a0136-54b8-43c2-a992-73f7589b0f45",
   "metadata": {},
   "outputs": [],
   "source": [
    "import sys\n",
    "sys.path.append('../src')  # Adjust the path as necessary.\n",
    "from data.data import ImagesWHighDimLabels\n",
    "import torch.nn as nn\n",
    "import torchvision\n",
    "from torchvision import datasets, transforms\n",
    "from torch.utils.data import Dataset, DataLoader\n",
    "from skimage.transform import resize\n",
    "import numpy as np\n",
    "import os\n",
    "import matplotlib.pyplot as plt"
   ]
  },
  {
   "cell_type": "code",
   "execution_count": 40,
   "id": "10bc9420-5fc7-4cb9-9c0a-940a548112bd",
   "metadata": {},
   "outputs": [],
   "source": [
    "image_save_dir = \"../data/imgs/cifar10\"\n",
    "label_save_dir = \"../data/labels/categorical/\"\n",
    "image_file_names = [\"cifar10_train_img.npy\", \"cifar10_test_img.npy\"]\n",
    "label_file_names = [\"cifar10_training.npy\", \"cifar10_test.npy\"]\n",
    "\n",
    "mean = [0.4914, 0.4822, 0.4465]\n",
    "std = [0.247, 0.243, 0.261]\n",
    "\n",
    "classes = ('Airplane', 'Automobile', 'Bird', 'Cat', 'Deer', 'Dog', 'Frog', 'Horse', 'Ship', 'Truck')\n",
    "label_map = {idx: label for idx, label in enumerate(classes)}\n",
    "\n",
    "transform = transforms.Compose([\n",
    "    transforms.ToTensor(),  # Convert images to PyTorch tensors\n",
    "    transforms.Normalize(mean=mean,\n",
    "                         std=std)\n",
    "])\n",
    "\n",
    "img_path = os.path.join(image_save_dir, image_file_names[0])\n",
    "cat_label_path = os.path.join(label_save_dir, label_file_names[0])\n",
    "high_dim_labels_path = \"../data/labels/high_dim/cifar10_speech.npy\"\n",
    "\n",
    "traindata = ImagesWHighDimLabels(img_path, cat_label_path, high_dim_labels_path, label_map,\n",
    "                                      transform=transform)"
   ]
  },
  {
   "cell_type": "code",
   "execution_count": 45,
   "id": "8bc87709-ee22-4aef-9b2b-8f0bd16852e4",
   "metadata": {},
   "outputs": [
    {
     "ename": "AttributeError",
     "evalue": "'tuple' object has no attribute 'shape'",
     "output_type": "error",
     "traceback": [
      "\u001b[0;31m---------------------------------------------------------------------------\u001b[0m",
      "\u001b[0;31mAttributeError\u001b[0m                            Traceback (most recent call last)",
      "Cell \u001b[0;32mIn[45], line 1\u001b[0m\n\u001b[0;32m----> 1\u001b[0m \u001b[43mtraindata\u001b[49m\u001b[43m[\u001b[49m\u001b[38;5;241;43m0\u001b[39;49m\u001b[43m]\u001b[49m\u001b[38;5;241;43m.\u001b[39;49m\u001b[43mshape\u001b[49m\n",
      "\u001b[0;31mAttributeError\u001b[0m: 'tuple' object has no attribute 'shape'"
     ]
    }
   ],
   "source": []
  },
  {
   "cell_type": "markdown",
   "id": "f07dd318-f708-4fea-934c-26cecb8514a4",
   "metadata": {},
   "source": [
    "## Model Scratch"
   ]
  },
  {
   "cell_type": "code",
   "execution_count": null,
   "id": "b2c42bb9-8361-4520-a9f3-6e755558ff1b",
   "metadata": {},
   "outputs": [],
   "source": []
  },
  {
   "cell_type": "code",
   "execution_count": 6,
   "id": "fc82c055-671c-4760-ac13-cce10d36ce75",
   "metadata": {},
   "outputs": [],
   "source": [
    "from utils import Model, Trainer\n",
    "from data import ImagesWHighDimLabels\n",
    "from models import HighDimModel\n",
    "from torchvision import models\n",
    "import torch\n",
    "\n",
    "network = HighDimModel(models.vgg11(), 64)\n",
    "optimizer = torch.optim.SGD(network.parameters(), lr=0.001, momentum=0.9)\n",
    "loss_fn = nn.HuberLoss()\n",
    "model = Model(network, optimizer, loss_fn)\n",
    "high_dim_labels = traindata.high_dim_labels\n",
    "trainloader = DataLoader(traindata, batch_size=16,\n",
    "                             shuffle=True, num_workers=2)\n",
    "inputs, high_dim_labels, cat_labels = next(iter(trainloader))"
   ]
  },
  {
   "cell_type": "code",
   "execution_count": 10,
   "id": "f641f9d5-595a-45be-a8b2-36d76c874fb3",
   "metadata": {},
   "outputs": [],
   "source": [
    "preds = model.forward(inputs)"
   ]
  },
  {
   "cell_type": "code",
   "execution_count": 28,
   "id": "22dbd11b-23e2-4c20-94f6-1cf542dd3350",
   "metadata": {},
   "outputs": [
    {
     "data": {
      "text/plain": [
       "torch.Size([16, 64, 64])"
      ]
     },
     "execution_count": 28,
     "metadata": {},
     "output_type": "execute_result"
    }
   ],
   "source": [
    "high_dim_labels.shape"
   ]
  },
  {
   "cell_type": "code",
   "execution_count": 12,
   "id": "280c700c-a74b-4558-9f6b-95f75f1cf5e3",
   "metadata": {},
   "outputs": [
    {
     "data": {
      "text/plain": [
       "torch.Size([16, 64, 64])"
      ]
     },
     "execution_count": 12,
     "metadata": {},
     "output_type": "execute_result"
    }
   ],
   "source": [
    "preds.shape"
   ]
  },
  {
   "cell_type": "code",
   "execution_count": 13,
   "id": "7e272930-757a-48e2-aaf0-00308a3c135e",
   "metadata": {},
   "outputs": [],
   "source": [
    "loss_fn = nn.HuberLoss()\n",
    "y_hats = model.forward(inputs)"
   ]
  },
  {
   "cell_type": "code",
   "execution_count": 38,
   "id": "5cdbe085-1b12-44bb-b3ea-3b984509591d",
   "metadata": {},
   "outputs": [],
   "source": [
    "pred_classes = classify_predictions(y_hats, high_dim_labels, loss_fn)\n",
    "a, b = calc_cls_accuracy(pred_classes, cat_labels)"
   ]
  },
  {
   "cell_type": "code",
   "execution_count": 39,
   "id": "028329f4-a568-4862-9b7e-9d9b83c92daf",
   "metadata": {},
   "outputs": [
    {
     "data": {
      "text/plain": [
       "2"
      ]
     },
     "execution_count": 39,
     "metadata": {},
     "output_type": "execute_result"
    }
   ],
   "source": [
    "a"
   ]
  },
  {
   "cell_type": "code",
   "execution_count": 20,
   "id": "6528acda-4953-4087-bda9-66d32c9e2e4e",
   "metadata": {},
   "outputs": [],
   "source": [
    "preds = pred_classes.numpy()"
   ]
  },
  {
   "cell_type": "code",
   "execution_count": 19,
   "id": "9bfcac14-e0f2-4231-9227-bd50c0dc3c27",
   "metadata": {},
   "outputs": [
    {
     "data": {
      "text/plain": [
       "tensor([0, 2, 6, 1, 8, 1, 9, 1, 2, 4, 0, 0, 4, 9, 9, 6])"
      ]
     },
     "execution_count": 19,
     "metadata": {},
     "output_type": "execute_result"
    }
   ],
   "source": [
    "cat_labels "
   ]
  },
  {
   "cell_type": "code",
   "execution_count": 33,
   "id": "e0a3b53c-4bc9-4201-a1e4-8af9ce912051",
   "metadata": {},
   "outputs": [
    {
     "data": {
      "text/plain": [
       "(tensor([[[-1.0527e+00, -1.3068e+00, -1.1956e+00,  ...,  5.1906e-01,\n",
       "            4.2380e-01,  3.6029e-01],\n",
       "          [-1.7354e+00, -1.9895e+00, -1.7037e+00,  ..., -3.6628e-02,\n",
       "           -1.0013e-01, -5.2505e-02],\n",
       "          [-1.5926e+00, -1.7354e+00, -1.2115e+00,  ..., -1.1601e-01,\n",
       "           -8.4258e-02, -2.5890e-01],\n",
       "          ...,\n",
       "          [ 1.3129e+00,  1.2018e+00,  1.1541e+00,  ...,  5.5081e-01,\n",
       "           -1.1004e+00, -1.1480e+00],\n",
       "          [ 8.6835e-01,  7.5721e-01,  9.6361e-01,  ...,  9.3186e-01,\n",
       "           -4.4942e-01, -6.7170e-01],\n",
       "          [ 8.2072e-01,  6.7783e-01,  8.5247e-01,  ...,  1.4399e+00,\n",
       "            4.0792e-01, -3.6628e-02]],\n",
       " \n",
       "         [[-9.8380e-01, -1.2420e+00, -1.2097e+00,  ...,  1.4587e-01,\n",
       "            3.2906e-02,  1.6768e-02],\n",
       "          [-1.6616e+00, -1.9844e+00, -1.8553e+00,  ..., -5.6421e-01,\n",
       "           -6.4490e-01, -5.8034e-01],\n",
       "          [-1.5970e+00, -1.8714e+00, -1.5486e+00,  ..., -6.2876e-01,\n",
       "           -6.2876e-01, -8.0628e-01],\n",
       "          ...,\n",
       "          [ 7.5912e-01,  4.8477e-01,  6.1388e-01,  ...,  1.6201e-01,\n",
       "           -1.4841e+00, -1.4357e+00],\n",
       "          [ 2.5884e-01,  6.2941e-04,  3.3953e-01,  ...,  4.0408e-01,\n",
       "           -9.8380e-01, -1.1290e+00],\n",
       "          [ 3.3953e-01,  9.7458e-02,  3.0725e-01,  ...,  9.8506e-01,\n",
       "           -8.0061e-02, -4.9965e-01]],\n",
       " \n",
       "         [[-7.6414e-01, -1.0346e+00, -1.0646e+00,  ..., -8.8010e-02,\n",
       "           -1.7816e-01, -1.6314e-01],\n",
       "          [-1.4102e+00, -1.7107e+00, -1.7107e+00,  ..., -8.8434e-01,\n",
       "           -9.5947e-01, -8.5429e-01],\n",
       "          [-1.3952e+00, -1.7107e+00, -1.5905e+00,  ..., -9.5947e-01,\n",
       "           -9.5947e-01, -1.0797e+00],\n",
       "          ...,\n",
       "          [-2.6831e-01, -1.1999e+00, -1.3201e+00,  ..., -6.5897e-01,\n",
       "           -1.6056e+00, -1.4102e+00],\n",
       "          [-2.6831e-01, -1.0797e+00, -1.2600e+00,  ..., -2.9836e-01,\n",
       "           -1.1999e+00, -1.1999e+00],\n",
       "          [ 3.2191e-02, -2.9836e-01, -4.0354e-01,  ...,  3.9280e-01,\n",
       "           -4.4861e-01, -6.2892e-01]]]),\n",
       " array([[-71.88831 , -68.091866, -64.4265  , ..., -76.037636, -80.      ,\n",
       "         -80.      ],\n",
       "        [-70.24244 , -66.515884, -62.679657, ..., -76.82332 , -80.      ,\n",
       "         -80.      ],\n",
       "        [-66.31116 , -61.00439 , -56.150875, ..., -76.63746 , -80.      ,\n",
       "         -80.      ],\n",
       "        ...,\n",
       "        [-79.58982 , -77.19187 , -71.51244 , ..., -80.      , -80.      ,\n",
       "         -80.      ],\n",
       "        [-79.41027 , -75.96264 , -69.60703 , ..., -80.      , -80.      ,\n",
       "         -80.      ],\n",
       "        [-79.410324, -75.962975, -69.68023 , ..., -80.      , -80.      ,\n",
       "         -80.      ]], dtype=float32),\n",
       " 6)"
      ]
     },
     "execution_count": 33,
     "metadata": {},
     "output_type": "execute_result"
    }
   ],
   "source": [
    "traindata[0]"
   ]
  },
  {
   "cell_type": "code",
   "execution_count": 36,
   "id": "2e8154eb-7ded-4e08-8148-155289f7d5ca",
   "metadata": {},
   "outputs": [],
   "source": [
    "def calc_losses_across_classes(predictions, labels, loss_fn):\n",
    "    losses = torch.zeros(predictions.size(0), labels.size(0))\n",
    "    for i, y_hat in enumerate(y_hats):\n",
    "        for j, label in enumerate(labels):\n",
    "            loss = loss_fn(y_hat.unsqueeze(0), label.unsqueeze(0))  # Adding batch dimension for compatibility\n",
    "            losses[i, j] = loss\n",
    "    return losses\n",
    "\n",
    "def classify_predictions(predictions, labels, loss_fn):\n",
    "    losses = calc_losses_across_classes(predictions, labels, loss_fn)\n",
    "    return torch.argmax(losses, dim=1)\n",
    "\n",
    "def calc_cls_accuracy(yhat_cls, cat_label):\n",
    "        check = yhat_cls == cat_label\n",
    "        num_accurate = sum(check).item()\n",
    "        num_inaccurate = yhat_cls.size(0) - num_accurate\n",
    "        return num_accurate, num_inaccurate\n"
   ]
  },
  {
   "cell_type": "code",
   "execution_count": 31,
   "id": "fdf731b7-8354-46ef-95cb-1bdc8fb0103d",
   "metadata": {},
   "outputs": [
    {
     "name": "stdout",
     "output_type": "stream",
     "text": [
      "0\n",
      "1\n"
     ]
    },
    {
     "ename": "KeyboardInterrupt",
     "evalue": "",
     "output_type": "error",
     "traceback": [
      "\u001b[0;31m---------------------------------------------------------------------------\u001b[0m",
      "\u001b[0;31mKeyboardInterrupt\u001b[0m                         Traceback (most recent call last)",
      "Cell \u001b[0;32mIn[31], line 14\u001b[0m\n\u001b[1;32m     12\u001b[0m outputs \u001b[38;5;241m=\u001b[39m model\u001b[38;5;241m.\u001b[39mforward(inputs)\n\u001b[1;32m     13\u001b[0m loss \u001b[38;5;241m=\u001b[39m loss_fn(outputs, labels)\n\u001b[0;32m---> 14\u001b[0m \u001b[43mloss\u001b[49m\u001b[38;5;241;43m.\u001b[39;49m\u001b[43mbackward\u001b[49m\u001b[43m(\u001b[49m\u001b[43m)\u001b[49m\n\u001b[1;32m     15\u001b[0m optimizer\u001b[38;5;241m.\u001b[39mstep()\n\u001b[1;32m     16\u001b[0m running_loss \u001b[38;5;241m+\u001b[39m\u001b[38;5;241m=\u001b[39m loss\u001b[38;5;241m.\u001b[39mitem()\n",
      "File \u001b[0;32m~/PycharmProjects/personal/standard_env/lib/python3.8/site-packages/torch/_tensor.py:522\u001b[0m, in \u001b[0;36mTensor.backward\u001b[0;34m(self, gradient, retain_graph, create_graph, inputs)\u001b[0m\n\u001b[1;32m    512\u001b[0m \u001b[38;5;28;01mif\u001b[39;00m has_torch_function_unary(\u001b[38;5;28mself\u001b[39m):\n\u001b[1;32m    513\u001b[0m     \u001b[38;5;28;01mreturn\u001b[39;00m handle_torch_function(\n\u001b[1;32m    514\u001b[0m         Tensor\u001b[38;5;241m.\u001b[39mbackward,\n\u001b[1;32m    515\u001b[0m         (\u001b[38;5;28mself\u001b[39m,),\n\u001b[0;32m   (...)\u001b[0m\n\u001b[1;32m    520\u001b[0m         inputs\u001b[38;5;241m=\u001b[39minputs,\n\u001b[1;32m    521\u001b[0m     )\n\u001b[0;32m--> 522\u001b[0m \u001b[43mtorch\u001b[49m\u001b[38;5;241;43m.\u001b[39;49m\u001b[43mautograd\u001b[49m\u001b[38;5;241;43m.\u001b[39;49m\u001b[43mbackward\u001b[49m\u001b[43m(\u001b[49m\n\u001b[1;32m    523\u001b[0m \u001b[43m    \u001b[49m\u001b[38;5;28;43mself\u001b[39;49m\u001b[43m,\u001b[49m\u001b[43m \u001b[49m\u001b[43mgradient\u001b[49m\u001b[43m,\u001b[49m\u001b[43m \u001b[49m\u001b[43mretain_graph\u001b[49m\u001b[43m,\u001b[49m\u001b[43m \u001b[49m\u001b[43mcreate_graph\u001b[49m\u001b[43m,\u001b[49m\u001b[43m \u001b[49m\u001b[43minputs\u001b[49m\u001b[38;5;241;43m=\u001b[39;49m\u001b[43minputs\u001b[49m\n\u001b[1;32m    524\u001b[0m \u001b[43m\u001b[49m\u001b[43m)\u001b[49m\n",
      "File \u001b[0;32m~/PycharmProjects/personal/standard_env/lib/python3.8/site-packages/torch/autograd/__init__.py:266\u001b[0m, in \u001b[0;36mbackward\u001b[0;34m(tensors, grad_tensors, retain_graph, create_graph, grad_variables, inputs)\u001b[0m\n\u001b[1;32m    261\u001b[0m     retain_graph \u001b[38;5;241m=\u001b[39m create_graph\n\u001b[1;32m    263\u001b[0m \u001b[38;5;66;03m# The reason we repeat the same comment below is that\u001b[39;00m\n\u001b[1;32m    264\u001b[0m \u001b[38;5;66;03m# some Python versions print out the first line of a multi-line function\u001b[39;00m\n\u001b[1;32m    265\u001b[0m \u001b[38;5;66;03m# calls in the traceback and some print out the last line\u001b[39;00m\n\u001b[0;32m--> 266\u001b[0m \u001b[43mVariable\u001b[49m\u001b[38;5;241;43m.\u001b[39;49m\u001b[43m_execution_engine\u001b[49m\u001b[38;5;241;43m.\u001b[39;49m\u001b[43mrun_backward\u001b[49m\u001b[43m(\u001b[49m\u001b[43m  \u001b[49m\u001b[38;5;66;43;03m# Calls into the C++ engine to run the backward pass\u001b[39;49;00m\n\u001b[1;32m    267\u001b[0m \u001b[43m    \u001b[49m\u001b[43mtensors\u001b[49m\u001b[43m,\u001b[49m\n\u001b[1;32m    268\u001b[0m \u001b[43m    \u001b[49m\u001b[43mgrad_tensors_\u001b[49m\u001b[43m,\u001b[49m\n\u001b[1;32m    269\u001b[0m \u001b[43m    \u001b[49m\u001b[43mretain_graph\u001b[49m\u001b[43m,\u001b[49m\n\u001b[1;32m    270\u001b[0m \u001b[43m    \u001b[49m\u001b[43mcreate_graph\u001b[49m\u001b[43m,\u001b[49m\n\u001b[1;32m    271\u001b[0m \u001b[43m    \u001b[49m\u001b[43minputs\u001b[49m\u001b[43m,\u001b[49m\n\u001b[1;32m    272\u001b[0m \u001b[43m    \u001b[49m\u001b[43mallow_unreachable\u001b[49m\u001b[38;5;241;43m=\u001b[39;49m\u001b[38;5;28;43;01mTrue\u001b[39;49;00m\u001b[43m,\u001b[49m\n\u001b[1;32m    273\u001b[0m \u001b[43m    \u001b[49m\u001b[43maccumulate_grad\u001b[49m\u001b[38;5;241;43m=\u001b[39;49m\u001b[38;5;28;43;01mTrue\u001b[39;49;00m\u001b[43m,\u001b[49m\n\u001b[1;32m    274\u001b[0m \u001b[43m\u001b[49m\u001b[43m)\u001b[49m\n",
      "\u001b[0;31mKeyboardInterrupt\u001b[0m: "
     ]
    }
   ],
   "source": [
    "losses = []\n",
    "rate = 3\n",
    "for epoch in range(3):  # loop over the dataset multiple times\n",
    "    running_loss = 0.0\n",
    "    for i, data in enumerate(trainloader, 0):\n",
    "        print(i)\n",
    "        # get the inputs; data is a list of [inputs, labels]\n",
    "        inputs, labels = data\n",
    "        # zero the parameter gradients\n",
    "        optimizer.zero_grad()\n",
    "        # forward + backward + optimize\n",
    "        outputs = model.forward(inputs)\n",
    "        loss = loss_fn(outputs, labels)\n",
    "        loss.backward()\n",
    "        optimizer.step()\n",
    "        running_loss += loss.item()\n",
    "        if i % rate == rate-1:\n",
    "            print(i)\n",
    "            loss_for_logging = running_loss/rate\n",
    "            losses.append(loss_for_logging)\n",
    "            running_loss = 0.0\n",
    "print('Finished Training')"
   ]
  },
  {
   "cell_type": "code",
   "execution_count": null,
   "id": "d26d8ab6-670a-4429-b5fd-5bc74b811c9d",
   "metadata": {},
   "outputs": [],
   "source": [
    "plt.plot(losses)"
   ]
  },
  {
   "cell_type": "markdown",
   "id": "51e8f8a1-580b-456e-8a42-b6d2263a87a9",
   "metadata": {
    "jp-MarkdownHeadingCollapsed": true
   },
   "source": [
    "## CNN "
   ]
  },
  {
   "cell_type": "code",
   "execution_count": 24,
   "id": "569390ea-6f16-4c10-9340-88df3efb9437",
   "metadata": {},
   "outputs": [],
   "source": [
    "class CnnFeatureExtractor(nn.Module):\n",
    "    def __init__(self, base_model: nn.Module):\n",
    "        super().__init__()\n",
    "        self.layers = nn.Sequential(*list(base_model.children())[:-1])\n",
    "        self.out_features = base_model.classifier[0].in_features\n",
    "\n",
    "    def forward(self, x):\n",
    "        h = self.layers(x)\n",
    "        h = h.flatten(start_dim=1)\n",
    "        return h\n",
    "\n",
    "\n"
   ]
  },
  {
   "cell_type": "markdown",
   "id": "e5272e13-b396-4223-8326-1502bb971422",
   "metadata": {
    "jp-MarkdownHeadingCollapsed": true
   },
   "source": [
    "## FC"
   ]
  },
  {
   "cell_type": "code",
   "execution_count": null,
   "id": "8c026b27-c975-408c-bb57-76fdbe4cef33",
   "metadata": {},
   "outputs": [],
   "source": [
    "fc = nn.Sequential(nn.BatchNorm1d(self.cnn.out_features), # turn features into 1d latent representation\n",
    "                  nn.LeakyReLU(),\n",
    "                nn.Linear(self.cnn.out_features, lr_size))"
   ]
  },
  {
   "cell_type": "markdown",
   "id": "95b13477-7d09-4f4f-a473-3545d66e6123",
   "metadata": {},
   "source": [
    "## Decoder "
   ]
  },
  {
   "cell_type": "code",
   "execution_count": 18,
   "id": "3ce8051f-152b-42a0-a0da-879d836e982e",
   "metadata": {},
   "outputs": [],
   "source": [
    "class DeconvDecoder(nn.Module):\n",
    "    def __init__(self, input_size):\n",
    "        super().__init__()\n",
    "        self.layers = nn.Sequential(\n",
    "            nn.ConvTranspose2d(input_size, 64, 4, 1, 0),\n",
    "            nn.BatchNorm2d(64),\n",
    "            nn.LeakyReLU(),\n",
    "            # state size. 64 x 4 x 4\n",
    "            nn.ConvTranspose2d(64, 32, 4, 2, 1),\n",
    "            nn.BatchNorm2d(32),\n",
    "            nn.LeakyReLU(),\n",
    "            # state size. 32 x 8 x 8\n",
    "            nn.ConvTranspose2d(32, 16, 4, 2, 1),\n",
    "            nn.BatchNorm2d(16),\n",
    "            nn.LeakyReLU(),\n",
    "            # state size. 16 x 16 x 16\n",
    "            nn.ConvTranspose2d(16, 8, 4, 2, 1),\n",
    "            nn.BatchNorm2d(8),\n",
    "            nn.LeakyReLU(),\n",
    "            # state size. 8 x 32 x 32\n",
    "            nn.ConvTranspose2d(8, 1, 4, 2, 1)\n",
    "        )\n",
    "\n",
    "    def forward(self, x):\n",
    "        x = x.view(x.size(0), x.size(1), 1, 1)        \n",
    "        y_hat = self.layers(x)\n",
    "        return y_hat"
   ]
  },
  {
   "cell_type": "code",
   "execution_count": 14,
   "id": "221aa0ab-35c3-415c-b9de-8c7eb548c75c",
   "metadata": {},
   "outputs": [],
   "source": [
    "class HighDimModel(nn.Module):\n",
    "    def __init__(self, base_cnn: nn.Module, lr_size: int):\n",
    "        super().__init__()\n",
    "\n",
    "        self.cnn = CnnFeatureExtractor(base_cnn) #extracts features from input image\n",
    "        self.fc = nn.Sequential(nn.BatchNorm1d(self.cnn.out_features), # turn features into 1d latent representation\n",
    "                  nn.LeakyReLU(),\n",
    "                nn.Linear(self.cnn.out_features, lr_size))\n",
    "        self.decoder = DeconvDecoder(lr_size) \n",
    "\n",
    "    def forward(self, x):\n",
    "        h = self.cnn(x)\n",
    "        lr = self.fc(h)\n",
    "        y_hat = self.decoder(lr)\n",
    "        y_hat = y_hat.view(-1, 64, 64)\n",
    "        return y_hat"
   ]
  },
  {
   "cell_type": "code",
   "execution_count": 186,
   "id": "20e10a28-470a-4d21-8208-3d4dabfa88ea",
   "metadata": {},
   "outputs": [],
   "source": [
    "full_model = HighDimModel(models.vgg11(), 64)\n",
    "loss_fn = nn.HuberLoss()\n",
    "optimizer = optim.SGD(full_model.parameters(), lr=0.001, momentum=0.9)"
   ]
  },
  {
   "cell_type": "code",
   "execution_count": 195,
   "id": "7722b1c1-37a3-4190-b3e2-86e6670ad6e0",
   "metadata": {},
   "outputs": [
    {
     "data": {
      "text/plain": [
       "[<matplotlib.lines.Line2D at 0x2b6819f70>]"
      ]
     },
     "execution_count": 195,
     "metadata": {},
     "output_type": "execute_result"
    },
    {
     "data": {
      "image/png": "[encoded data removed]",
      "text/plain": [
       "<Figure size 640x480 with 1 Axes>"
      ]
     },
     "metadata": {},
     "output_type": "display_data"
    }
   ],
   "source": []
  },
  {
   "cell_type": "code",
   "execution_count": null,
   "id": "71dff1b4-2829-4201-bf88-7699d6e49e10",
   "metadata": {},
   "outputs": [],
   "source": []
  }
 ],
 "metadata": {
  "kernelspec": {
   "display_name": "Python 3 (ipykernel)",
   "language": "python",
   "name": "python3"
  },
  "language_info": {
   "codemirror_mode": {
    "name": "ipython",
    "version": 3
   },
   "file_extension": ".py",
   "mimetype": "text/x-python",
   "name": "python",
   "nbconvert_exporter": "python",
   "pygments_lexer": "ipython3",
   "version": "3.8.9"
  }
 },
 "nbformat": 4,
 "nbformat_minor": 5
}
